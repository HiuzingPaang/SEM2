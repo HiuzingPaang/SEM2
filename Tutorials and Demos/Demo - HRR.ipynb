{
 "cells": [
  {
   "cell_type": "code",
   "execution_count": 2,
   "metadata": {},
   "outputs": [],
   "source": [
    "## comment out if running locally and SEM is already installed\n",
    "!pip install git+https://github.com/nicktfranklin/SEM2\n"
   ]
  },
  {
   "cell_type": "code",
   "execution_count": 3,
   "metadata": {},
   "outputs": [
    {
     "name": "stdout",
     "output_type": "stream",
     "text": [
      "TensorFlow Version: 2.1.0\n"
     ]
    }
   ],
   "source": [
    "%matplotlib inline\n",
    "import matplotlib.pyplot as plt\n",
    "import numpy as np\n",
    "from sem.hrr import embed_gaussian, plate_formula, encode, decode"
   ]
  },
  {
   "cell_type": "code",
   "execution_count": 4,
   "metadata": {},
   "outputs": [
    {
     "name": "stdout",
     "output_type": "stream",
     "text": [
      "[[1.         0.57431525]\n",
      " [0.57431525 1.        ]]\n"
     ]
    },
    {
     "data": {
      "image/png": "[encoded data removed]",
      "text/plain": [
       "<Figure size 432x288 with 1 Axes>"
      ]
     },
     "metadata": {
      "needs_background": "light"
     },
     "output_type": "display_data"
    }
   ],
   "source": [
    "# figure out how many dimensions we need\n",
    "n = 10;     # vocabulary size\n",
    "k = 5;      # maximum number of terms to be combined\n",
    "err = 0.01; # error probability\n",
    "d = plate_formula(n, k, err);\n",
    "\n",
    "dog = embed_gaussian(d, n=1)\n",
    "agent = embed_gaussian(d, n=1)\n",
    "chase = embed_gaussian(d, n=1)\n",
    "verb = embed_gaussian(d, n=1)\n",
    "cat = embed_gaussian(d, n=1)\n",
    "patient = embed_gaussian(d, n=1)\n",
    "\n",
    "\n",
    "sentance = (encode(dog, agent) + encode(chase, verb)) / np.sqrt(2)\n",
    "# devided by sqrt to keep expected lengh = 1\n",
    "dog_decoded = decode(sentance, agent)\n",
    "dog_decoded /= np.linalg.norm(dog_decoded)  # normalize the decoded vector for clarity\n",
    "\n",
    "plt.scatter(dog, dog_decoded)\n",
    "print(np.corrcoef(dog, dog_decoded))\n",
    "plt.gca().set_xlabel('Dog Vector Values')\n",
    "plt.gca().set_ylabel('Decoded-Dog Vector Values')\n",
    "plt.show()"
   ]
  },
  {
   "cell_type": "markdown",
   "metadata": {},
   "source": [
    "# Compositonality\n",
    "Circular convolution preserves the simliarity structure of the underlying vectors. That is, if two vectors are more are similar to each other in vector space, then their convolutions with a third vector will retain that similarity.  We can show this buy approximating a circular convolution with a tensor product (Plate, 1995; Doumas and Hummel, 2005). \n",
    "\n",
    "Formally, this stems from the observation is that if $\\mathbf{a}$, $\\mathbf{b}$, and $\\mathbf{c}$  are $D$-dimensional random vectors drawn from $\\mathcal{N}(0, \\sigma \\text{I})$ then typically\n",
    "\n",
    "$$\\cos(\\theta_{\\mathbf{a} + \\mathbf{c}, \\mathbf{b} + \\mathbf{c}}) > \\cos(\\theta_{\\mathbf{a}, \\mathbf{b}})$$\n",
    "\n",
    "or\n",
    "\n",
    "$$\\frac{(\\mathbf{a} + \\mathbf{c})^{\\text{T}}(\\mathbf{b} + \\mathbf{c})}{||(\\mathbf{a} + \\mathbf{c})^{\\text{T}}(\\mathbf{b} + \\mathbf{c}) ||} > \\frac{\\mathbf{a}^{\\text{T}}\\mathbf{b}}{||\\mathbf{a}^{\\text{T}}\\mathbf{b}||}$$\n",
    "\n",
    "meaning that the random vectors that share a common (linearly additive) factor are more to each other than the would be if you were to subtract thier common factor.\n",
    "\n",
    "We can see that this generally the case by noting that $(\\mathbf{a} + \\mathbf{c})^{\\text{T}}(\\mathbf{b} + \\mathbf{c}) = \\mathbf{a}^{\\text{T}}\\mathbf{b} + (\\mathbf{a} + \\mathbf{b})^\\text{T}\\mathbf{c} + \\mathbf{c}^\\text{T}\\mathbf{c}$, hense we can re-arange our claim to that typically $\\mathbf{c}^\\text{T}\\mathbf{c} > (\\mathbf{a} + \\mathbf{b})^\\text{T}\\mathbf{c}$, which is true as long as $\\mathbf{c}$ is not strongly anti-correlated to $\\textbf{a}$ and $\\textbf{b}$. Asymptoically, this will be the case as \n",
    "\n",
    "$$\\mathbb{E}[(\\mathbf{a}+\\mathbf{b})^\\text{T}\\mathbf{c}] =\\sum_{i=1}^{D}\\mathbb{E}[a_i]\\mathbb{E}[c_i]+\\sum_{i=1}^{D}\\mathbb{E}[b_i]\\mathbb{E}[c_i] + (r_{ac} + r_{bc})\\sigma^2 = 0$$\n",
    "\n",
    "where $r_{ac}$ and $r_{ac}$ are the correlations between vectors $\\mathbf{a}$ and $\\mathbf{c}$ and vectors $\\mathbf{b}$ and $\\mathbf{c}$, respectively, and is zero for both when $\\mathbf{a}$, $\\mathbf{b}$, $\\mathbf{c}\\sim\\mathcal{N}(0, \\sigma\\text{I})$. Thus, we would expect the presense of a common factor to increase the simliarity of two random vectors.\n",
    "\n",
    "\n",
    "We can be more rigorus with this proof but it's easiest to just to show it is the case empirically, that as we increase the dimensionality of the vecotrs $D$, $\\Pr\\left (\\cos(\\theta_{\\mathbf{a} + \\mathbf{c}, \\mathbf{b} + \\mathbf{c}}) > \\cos(\\theta_{\\mathbf{a}, \\mathbf{b}})\\right )$ approches 1:\n",
    "\n"
   ]
  },
  {
   "cell_type": "code",
   "execution_count": 5,
   "metadata": {},
   "outputs": [
    {
     "data": {
      "text/plain": [
       "Text(0.5, 1.0, '$\\\\Pr\\\\left ( \\\\cos\\\\ \\\\theta_{a+c, b+c} > \\\\cos\\\\ \\\\theta_{a, b} \\\\right )$')"
      ]
     },
     "execution_count": 5,
     "metadata": {},
     "output_type": "execute_result"
    },
    {
     "data": {
      "image/png": "[encoded data removed]",
      "text/plain": [
       "<Figure size 288x144 with 1 Axes>"
      ]
     },
     "metadata": {
      "needs_background": "light"
     },
     "output_type": "display_data"
    }
   ],
   "source": [
    "N = 1000\n",
    "dot = [None]* 100\n",
    "for d in range(1, 101):\n",
    "    a = (np.random.randn(N, d))\n",
    "    b = (np.random.randn(N, d))\n",
    "    c = (np.random.randn(N, d))\n",
    "    f = np.array([np.dot(a[ii, :] + c[ii, :], b[ii, :] + c[ii, :]) - np.dot(a[ii, :], b[ii, :])\n",
    "        for ii in range(N)]) \n",
    "    dot[d-1] = np.mean(f >= 0)\n",
    "\n",
    "plt.figure(figsize=(4, 2))    \n",
    "plt.plot(range(1, 101), dot)\n",
    "plt.xlabel('Dimensions')\n",
    "plt.ylabel('p')\n",
    "plt.title(r'$\\Pr\\left ( \\cos\\ \\theta_{a+c, b+c} > \\cos\\ \\theta_{a, b} \\right )$')"
   ]
  },
  {
   "cell_type": "markdown",
   "metadata": {},
   "source": [
    "We can extend this arguements to tensor products by first noting that tensor products are distributive, so:\n",
    "\n",
    "$$(\\mathbf{x} + \\mathbf{y}) \\otimes\\mathbf{z} = \\mathbf{x}\\otimes\\mathbf{z} + \\mathbf{y}\\otimes\\mathbf{z}$$\n",
    "\n",
    "Thus, if we make two random vectors $\\mathbf{a}$ and $\\mathbf{b}$ similar to eachother by adding to each a common factor $\\mathbf{d}$, then taking the tensor product of each of those two vectors with a third random vector $\\mathbf{c}$, we can decompose both tensor products into the sum of two seperate tensors:\n",
    "\n",
    "$$(\\mathbf{a} + \\mathbf{d}) \\otimes\\mathbf{c} = \\mathbf{a}\\otimes\\mathbf{c} + \\mathbf{d}\\otimes\\mathbf{c}$$\n",
    "$$(\\mathbf{b} + \\mathbf{d}) \\otimes\\mathbf{c} = \\mathbf{b}\\otimes\\mathbf{c} + \\mathbf{d}\\otimes\\mathbf{c}$$\n",
    "\n",
    "Thus, both tensors share a common tensor. Then, by the arguments above we can show that:\n",
    "\n",
    "$$\\cos \\theta_{(\\mathbf{a} + \\mathbf{d}) \\otimes\\mathbf{c}, (\\mathbf{b} + \\mathbf{d}) \\otimes\\mathbf{c}} > \\cos \\theta_{\\mathbf{a} \\otimes\\mathbf{c}, \\mathbf{b}\\otimes\\mathbf{c} }$$\n",
    "\n",
    "will be true with probabilty approaching 1 as the dimensionality of the vectors goes to infinity. Thus, taking the tensor product of two similar vectors and a third random vector will result in two similar tensor products. Because circular convolution resembles a tensor product opperation (Plate, 1995; Doumas and Hummel, 2005) this argumemt will hold for it as well. Without getting into a rigorous proof of this, we can demonstrate this empirically:\n"
   ]
  },
  {
   "cell_type": "code",
   "execution_count": 6,
   "metadata": {},
   "outputs": [
    {
     "name": "stdout",
     "output_type": "stream",
     "text": [
      "Dot Product:\n",
      "\n",
      "dot(Olivia, William) = 0.430\n",
      "dot(Olivia, Coffee)  = 0.076\n",
      "dot(Coffee, William) = -0.025\n",
      "\n",
      "dot(Olivia(*)Agent, William(*)Agent) = 0.647\n",
      "dot(Olivia(*)Agent, Coffee(*)Agent)  = -0.046\n",
      "dot(Coffee(*)Agent, William(*)Agent) = 0.000\n",
      "\n",
      "Euclidean Distance:\n",
      "\n",
      "||Olivia - William|| = 0.944\n",
      "||Olivia - Coffee || = 1.344\n",
      "||Coffee - William|| = 1.458\n",
      "\n",
      "||Olivia(*)Agent - William(*)Agent|| = 0.842\n",
      "||Olivia(*)Agent - Coffee(*)Agent || = 1.181\n",
      "||Coffee(*)Agent - William(*)Agent|| = 1.174\n"
     ]
    }
   ],
   "source": [
    "from sklearn.preprocessing import normalize\n",
    "\n",
    "# both Olivia and William will share the property isPerson\n",
    "isPerson = embed_gaussian(d)\n",
    "\n",
    "Olivia = (embed_gaussian(d) + isPerson) / np.sqrt(2)\n",
    "William = (embed_gaussian(d) + isPerson) / np.sqrt(2)\n",
    "Agent = embed_gaussian(d)\n",
    "Coffee = embed_gaussian(d)\n",
    "\n",
    "\n",
    "OliviaAgent = encode(Olivia, Agent)\n",
    "WilliamAgent = encode(William, Agent)\n",
    "CoffeeAgent = encode(Coffee, Agent)\n",
    "\n",
    "print(\"Dot Product:\\n\")\n",
    "print(\"dot(Olivia, William) = {0:.3f}\".format(np.dot(OliviaAgent, WilliamAgent.T)[0][0]))\n",
    "print(\"dot(Olivia, Coffee)  = {0:.3f}\".format(np.dot(CoffeeAgent, WilliamAgent.T)[0][0]))\n",
    "print(\"dot(Coffee, William) = {0:.3f}\\n\".format(np.dot(OliviaAgent, CoffeeAgent.T)[0][0]))\n",
    "\n",
    "print(\"dot(Olivia(*)Agent, William(*)Agent) = {0:.3f}\".format(np.dot(Olivia, William.T)[0][0]))\n",
    "print(\"dot(Olivia(*)Agent, Coffee(*)Agent)  = {0:.3f}\".format(np.dot(Coffee, William.T)[0][0]))\n",
    "print(\"dot(Coffee(*)Agent, William(*)Agent) = {0:.3f}\".format(np.dot(Olivia, Coffee.T)[0][0]))\n",
    "\n",
    "\n",
    "print(\"\\nEuclidean Distance:\\n\")\n",
    "print(\"||Olivia - William|| = {0:.3f}\".format(np.linalg.norm(Olivia - William)))\n",
    "print(\"||Olivia - Coffee || = {0:.3f}\".format(np.linalg.norm(Olivia - Coffee)))\n",
    "print(\"||Coffee - William|| = {0:.3f}\\n\".format(np.linalg.norm(Coffee - William)))\n",
    "\n",
    "print(\"||Olivia(*)Agent - William(*)Agent|| = {0:.3f}\".format(np.linalg.norm(OliviaAgent - WilliamAgent)))\n",
    "print(\"||Olivia(*)Agent - Coffee(*)Agent || = {0:.3f}\".format(np.linalg.norm(CoffeeAgent - WilliamAgent)))\n",
    "print(\"||Coffee(*)Agent - William(*)Agent|| = {0:.3f}\".format(np.linalg.norm(OliviaAgent - CoffeeAgent)))\n",
    "\n"
   ]
  },
  {
   "cell_type": "code",
   "execution_count": null,
   "metadata": {},
   "outputs": [],
   "source": []
  }
 ],
 "metadata": {
  "kernelspec": {
   "display_name": "Python 3",
   "language": "python",
   "name": "python3"
  },
  "language_info": {
   "codemirror_mode": {
    "name": "ipython",
    "version": 3
   },
   "file_extension": ".py",
   "mimetype": "text/x-python",
   "name": "python",
   "nbconvert_exporter": "python",
   "pygments_lexer": "ipython3",
   "version": "3.6.10"
  }
 },
 "nbformat": 4,
 "nbformat_minor": 1
}
