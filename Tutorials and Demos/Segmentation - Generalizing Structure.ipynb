{
 "cells": [
  {
   "cell_type": "code",
   "execution_count": null,
   "metadata": {},
   "outputs": [],
   "source": [
    "# ## un-comment out if running locally\n",
    "\n",
    "# import os\n",
    "# os.chdir('../')"
   ]
  },
  {
   "cell_type": "code",
   "execution_count": 1,
   "metadata": {},
   "outputs": [],
   "source": [
    "## if running locally, comment out the following code\n",
    "\n",
    "!git clone https://github.com/nicktfranklin/SEM3.git\n",
    "import os\n",
    "os.chdir('./SEM3/')"
   ]
  },
  {
   "cell_type": "code",
   "execution_count": 2,
   "metadata": {},
   "outputs": [
    {
     "name": "stdout",
     "output_type": "stream",
     "text": [
      "TensorFlow Version: 1.14.0\n",
      "TensorFlow Check Passed\n"
     ]
    }
   ],
   "source": [
    "%matplotlib inline\n",
    "import numpy as np\n",
    "import matplotlib.pyplot as plt\n",
    "import pandas as pd\n",
    "import seaborn as sns\n",
    "from core.sem import SEM\n",
    "from core.event_models import NonLinearEvent\n",
    "from core.hrr import * # need basically everything from the HRR library\n",
    "\n",
    "\n",
    "from tqdm import tnrange\n",
    "\n",
    "sns.set_context('paper', font_scale=1.5)"
   ]
  },
  {
   "cell_type": "code",
   "execution_count": 3,
   "metadata": {},
   "outputs": [],
   "source": [
    "np.random.seed(0)\n",
    "\n",
    "# figure out how many dimensions we need using plates formula\n",
    "n = 18   # number of atomic values in the language\n",
    "k = 6;      # maximum number of terms to be combined\n",
    "err = 0.02; # error probability\n",
    "\n",
    "d = plate_formula(n, k, err)\n",
    "\n",
    "def embed(d):\n",
    "    return np.random.randn(1, d) / np.sqrt(d)\n",
    "\n",
    "verb_property = embed(d) * 1.00\n",
    "noun_property = embed(d) * 1.00\n",
    "\n",
    "words = {\n",
    "    'Ask': embed(d),\n",
    "    'Answer':  embed(d),\n",
    "    'Chase': embed(d),\n",
    "    'Tom': (embed(d) + noun_property),\n",
    "    'Charan':(embed(d) + noun_property),\n",
    "    'Jill': (embed(d) + noun_property),\n",
    "    'Talia': (embed(d) + noun_property),\n",
    "    'Tony': (embed(d) + noun_property),\n",
    "    'Clarisa': (embed(d) + noun_property),\n",
    "    'Bruce': (embed(d) + noun_property),\n",
    "    'Dick': (embed(d) + noun_property),\n",
    "    'Dog': (embed(d) + noun_property),\n",
    "    'Cat': (embed(d) + noun_property),\n",
    "}\n",
    "\n",
    "roles = {\n",
    "    'Agent': embed(d),\n",
    "    'Patient': embed(d),\n",
    "    'Verb': embed(d)\n",
    "}\n"
   ]
  },
  {
   "cell_type": "code",
   "execution_count": 4,
   "metadata": {},
   "outputs": [
    {
     "name": "stdout",
     "output_type": "stream",
     "text": [
      "dict_keys(['Ask', 'Answer', 'Chase', 'Tom', 'Charan', 'Jill', 'Talia', 'Tony', 'Clarisa', 'Bruce', 'Dick', 'Dog', 'Cat'])\n"
     ]
    },
    {
     "data": {
      "text/plain": [
       "<matplotlib.axes._subplots.AxesSubplot at 0x1a2c629940>"
      ]
     },
     "execution_count": 4,
     "metadata": {},
     "output_type": "execute_result"
    },
    {
     "data": {
      "image/png": "[encoded data removed]",
      "text/plain": [
       "<Figure size 432x288 with 2 Axes>"
      ]
     },
     "metadata": {
      "needs_background": "light"
     },
     "output_type": "display_data"
    }
   ],
   "source": [
    "from sklearn.metrics.pairwise import cosine_distances, euclidean_distances\n",
    "\n",
    "keys =  words.keys()\n",
    "print(keys)\n",
    "sns.heatmap(cosine_distances([words[w].reshape(-1) for w in keys]))"
   ]
  },
  {
   "cell_type": "code",
   "execution_count": 5,
   "metadata": {},
   "outputs": [
    {
     "data": {
      "text/plain": [
       "<matplotlib.axes._subplots.AxesSubplot at 0x1a2c785f98>"
      ]
     },
     "execution_count": 5,
     "metadata": {},
     "output_type": "execute_result"
    },
    {
     "data": {
      "image/png": "[encoded data removed]",
      "text/plain": [
       "<Figure size 432x288 with 2 Axes>"
      ]
     },
     "metadata": {
      "needs_background": "light"
     },
     "output_type": "display_data"
    }
   ],
   "source": [
    "sns.heatmap(euclidean_distances([words[w].reshape(-1) for w in keys]))"
   ]
  },
  {
   "cell_type": "code",
   "execution_count": 6,
   "metadata": {},
   "outputs": [],
   "source": [
    "sentences = [\n",
    "    ['Ask', 'Tom', 'Charan'], ['Answer', 'Charan', 'Tom'],\n",
    "#     ['Ask', 'Tom', 'Jill'],  ['Answer', 'Jill', 'Tom'],\n",
    "#     ['Ask', 'Tom', 'Talia'],  ['Answer', 'Talia', 'Tom'],\n",
    "#     ['Ask', 'Tom', 'Tony'],  ['Answer', 'Tony', 'Tom'],\n",
    "#     ['Ask', 'Tom', 'Clarisa'],  ['Answer', 'Clarisa', 'Tom'],\n",
    "\n",
    "#     ['Ask', 'Charan', 'Tom'], ['Answer', 'Tom', 'Charan'],\n",
    "#     ['Ask', 'Charan', 'Jill'],  ['Answer', 'Jill', 'Charan'],\n",
    "#     ['Ask', 'Charan', 'Talia'],  ['Answer', 'Talia', 'Charan'],\n",
    "#     ['Ask', 'Charan', 'Tony'],  ['Answer', 'Tony', 'Charan'],\n",
    "#     ['Ask', 'Charan', 'Clarisa'],  ['Answer', 'Clarisa', 'Charan'],\n",
    "\n",
    "    ['Ask', 'Jill', 'Talia'], ['Answer', 'Talia', 'Jill'],\n",
    "#     ['Ask', 'Jill', 'Tom'], ['Answer', 'Tom', 'Jill'],\n",
    "#     ['Ask', 'Jill', 'Charan'], ['Answer', 'Charan', 'Jill'],\n",
    "#     ['Ask', 'Jill', 'Tony'], ['Answer', 'Tony', 'Jill'],\n",
    "#     ['Ask', 'Jill', 'Clarisa'],  ['Answer', 'Charan', 'Jill'],\n",
    "\n",
    "#     ['Ask', 'Talia', 'Tom'],  ['Answer', 'Tom', 'Talia'],\n",
    "#     ['Ask', 'Talia', 'Jill'], ['Answer', 'Jill', 'Talia'],\n",
    "#     ['Ask', 'Talia', 'Charan'],  ['Answer', 'Charan', 'Talia'],\n",
    "#     ['Ask', 'Talia', 'Tony'],  ['Answer', 'Tony', 'Talia'],\n",
    "#     ['Ask', 'Talia', 'Clarisa'],  ['Answer', 'Clarisa', 'Talia'],\n",
    "\n",
    "#     ['Ask', 'Tony', 'Tom'], ['Answer', 'Tom', 'Tony'],\n",
    "#     ['Ask', 'Tony', 'Jill'], ['Answer', 'Jill', 'Tony'],\n",
    "#     ['Ask', 'Tony', 'Charan'],  ['Answer', 'Charan', 'Tony'],\n",
    "#     ['Ask', 'Tony', 'Talia'],  ['Answer', 'Talia', 'Tony'],\n",
    "    ['Ask', 'Tony', 'Clarisa'],  ['Answer', 'Clarisa', 'Tony'],\n",
    "    \n",
    "#     ['Ask', 'Clarisa', 'Tom'], ['Answer', 'Tom', 'Clarisa'],\n",
    "#     ['Ask', 'Clarisa', 'Jill'], ['Answer', 'Jill', 'Clarisa'],\n",
    "#     ['Ask', 'Clarisa', 'Charan'],  ['Answer', 'Charan', 'Clarisa'],\n",
    "#     ['Ask', 'Clarisa', 'Talia'],  ['Answer', 'Talia', 'Clarisa'],\n",
    "#     ['Ask', 'Clarisa', 'Tony'],  ['Answer', 'Tony', 'Clarisa'],\n",
    "]\n",
    "\n",
    "x_train = []\n",
    "for s in sentences:\n",
    "    x_train.append(\n",
    "        encode(words[s[0]], roles['Verb']) \n",
    "            + encode(words[s[1]], roles['Agent']) \n",
    "            + encode(words[s[2]], roles['Patient'])\n",
    "    )\n",
    "    \n",
    "test_a = [\n",
    "    encode(words['Ask'], roles['Verb']) \n",
    "        + encode(words['Tom'], roles['Agent']) \n",
    "        + encode(words['Charan'], roles['Patient']),\n",
    "    encode(words['Answer'], roles['Verb']) \n",
    "        + encode(words['Charan'], roles['Agent']) \n",
    "        + encode(words['Tom'], roles['Patient']),\n",
    "]\n",
    "\n",
    "\n",
    "test_b = [\n",
    "    encode(words['Ask'], roles['Verb']) \n",
    "        + encode(words['Bruce'], roles['Agent']) \n",
    "        + encode(words['Dick'], roles['Patient']),\n",
    "    encode(words['Answer'], roles['Verb']) \n",
    "        + encode(words['Dick'], roles['Agent']) \n",
    "        + encode(words['Bruce'], roles['Patient'])  \n",
    "]\n",
    "\n",
    "test_c = [\n",
    "    encode(words['Ask'], roles['Verb']) \n",
    "        + encode(words['Tom'], roles['Agent']) \n",
    "        + encode(words['Charan'], roles['Patient']),\n",
    "    encode(words['Chase'], roles['Verb']) \n",
    "        + encode(words['Dog'], roles['Agent']) \n",
    "        + encode(words['Cat'], roles['Patient']),\n",
    "]\n",
    "\n",
    "test_d = [\n",
    "    encode(words['Ask'], roles['Verb']) \n",
    "        + encode(words['Tom'], roles['Agent']) \n",
    "        + encode(words['Charan'], roles['Patient']),\n",
    "    encode(words['Ask'], roles['Verb']) \n",
    "        + encode(words['Tom'], roles['Agent']) \n",
    "        + encode(words['Charan'], roles['Patient']),\n",
    "]\n",
    "\n",
    "test_e = [\n",
    "    encode(words['Ask'], roles['Verb']) \n",
    "        + encode(words['Tom'], roles['Agent']) \n",
    "        + encode(words['Charan'], roles['Patient']),\n",
    "    encode(words['Ask'], roles['Verb']) \n",
    "        + encode(words['Bruce'], roles['Agent']) \n",
    "        + encode(words['Dick'], roles['Patient']),\n",
    "]\n",
    "\n",
    "test_a2x = [\n",
    "    encode(words['Ask'], roles['Verb']) \n",
    "        + encode(words['Tom'], roles['Agent']) \n",
    "        + encode(words['Charan'], roles['Patient']),\n",
    "    encode(words['Answer'], roles['Verb']) \n",
    "        + encode(words['Charan'], roles['Agent']) \n",
    "        + encode(words['Tom'], roles['Patient']),\n",
    "    encode(words['Ask'], roles['Verb']) \n",
    "        + encode(words['Bruce'], roles['Agent']) \n",
    "        + encode(words['Dick'], roles['Patient']),\n",
    "    encode(words['Answer'], roles['Verb']) \n",
    "        + encode(words['Dick'], roles['Agent']) \n",
    "        + encode(words['Bruce'], roles['Patient'])  \n",
    "]\n"
   ]
  },
  {
   "cell_type": "code",
   "execution_count": 7,
   "metadata": {},
   "outputs": [
    {
     "name": "stdout",
     "output_type": "stream",
     "text": [
      "[[0.53242548]]\n",
      "[[0.48624008]]\n",
      "[[0.38575729]]\n",
      "[[1.]]\n",
      "[[0.66631505]]\n"
     ]
    }
   ],
   "source": [
    "def angle_cos(x, y):\n",
    "    return np.dot(x, y.T) / (np.linalg.norm(x) * np.linalg.norm(y))\n",
    "\n",
    "print(angle_cos(test_a[0], test_a[1]))\n",
    "print(angle_cos(test_a[0], test_b[1]))\n",
    "print(angle_cos(test_a[0], test_c[1]))\n",
    "print(angle_cos(test_a[0], test_d[1]))\n",
    "print(angle_cos(test_a[0], test_e[1]))"
   ]
  },
  {
   "cell_type": "code",
   "execution_count": 8,
   "metadata": {},
   "outputs": [
    {
     "data": {
      "text/plain": [
       "array([2.63482798])"
      ]
     },
     "execution_count": 8,
     "metadata": {},
     "output_type": "execute_result"
    }
   ],
   "source": [
    "np.linalg.norm(np.dot(test_a[0], test_b[1].T), axis=1)"
   ]
  },
  {
   "cell_type": "code",
   "execution_count": 9,
   "metadata": {},
   "outputs": [
    {
     "data": {
      "text/plain": [
       "array([2.02766492])"
      ]
     },
     "execution_count": 9,
     "metadata": {},
     "output_type": "execute_result"
    }
   ],
   "source": [
    "np.linalg.norm(np.dot(test_a[0], test_c[1].T), axis=1)"
   ]
  },
  {
   "cell_type": "code",
   "execution_count": null,
   "metadata": {},
   "outputs": [],
   "source": []
  },
  {
   "cell_type": "code",
   "execution_count": 10,
   "metadata": {},
   "outputs": [],
   "source": [
    "# SEM parameters\n",
    "# df0 = 1.0\n",
    "# mode = 0.15\n",
    "df0 = 100.0\n",
    "mode = 0.295  ## value from the paper (and different tensorflow version) 0.305\n",
    "scale0 = (mode * (df0 + 2)) / df0\n",
    "\n",
    "lmda = 1.0  # stickyness parameter\n",
    "alfa = 2.  # concentration parameter\n",
    "\n",
    "\n",
    "f_class = NonLinearEvent\n",
    "# f_class = LinearDynamicSystem\n",
    "f_opts=dict(var_scale0=scale0, var_df0=df0, dropout=0.5, n_hidden = d, n_epochs=100,\n",
    "           prior_log_prob=2.0)\n",
    "\n",
    "sem_kwargs = dict(lmda=lmda, alfa=alfa, f_class=f_class, f_opts=f_opts)\n",
    "\n",
    "_x = np.concatenate(x_train, axis=0)\n",
    "event_types = np.array([0] * len(x_train))\n",
    "event_boundaries = np.array([1, 0] * len(x_train))\n",
    "\n",
    "sem_model = SEM(**sem_kwargs)"
   ]
  },
  {
   "cell_type": "code",
   "execution_count": 11,
   "metadata": {},
   "outputs": [],
   "source": [
    "def print_evalute(x, event_model, metric=euclidean_distances):\n",
    "    print(\"t=0, f0={}, origin={}\".format(\n",
    "        metric(event_model.predict_f0(), x[0])[0][0], metric(np.zeros((1, d)), x[0])[0][0]))\n",
    "    print(\"t=1, f(x)={}, f0={}, origin={}\".format(\n",
    "        metric(event_model.predict_next_generative(x[0]), x[1])[0][0],\n",
    "        metric(event_model.predict_f0(), x[1])[0][0],\n",
    "        metric(np.zeros((1, d)), x[1])[0][0]))\n",
    "    \n",
    "def print_models_likelihood(x, event_model_0, event_model_1):\n",
    "    print(\"t=0, p(f0_a)={}, p(f0_a)={}\".format(\n",
    "        event_model_0.log_likelihood_f0(x[0]),\n",
    "        event_model_1.log_likelihood_f0(x[0])\n",
    "    ))\n",
    "    print(\"t=1, p(f(x)_a)={}, p(f0_a)={}, p(f0_b)={}\".format(\n",
    "        event_model_0.log_likelihood_sequence(x[0], x[1]), \n",
    "        event_model_0.log_likelihood_f0(x[1]),\n",
    "        event_model_1.log_likelihood_f0(x[1])\n",
    "    )\n",
    ")"
   ]
  },
  {
   "cell_type": "markdown",
   "metadata": {},
   "source": [
    "# Test Case A"
   ]
  },
  {
   "cell_type": "code",
   "execution_count": 12,
   "metadata": {},
   "outputs": [
    {
     "name": "stderr",
     "output_type": "stream",
     "text": [
      "WARNING: Logging before flag parsing goes to stderr.\n",
      "W0819 14:51:07.869517 4423648704 deprecation_wrapper.py:119] From /Users/nicholasfranklin/OneDrive/Projects/SEM3/core/sem.py:83: The name tf.Session is deprecated. Please use tf.compat.v1.Session instead.\n",
      "\n",
      "W0819 14:51:07.882706 4423648704 deprecation_wrapper.py:119] From /Users/nicholasfranklin/OneDrive/Projects/SEM3/core/sem.py:84: The name tf.keras.backend.set_session is deprecated. Please use tf.compat.v1.keras.backend.set_session instead.\n",
      "\n",
      "Pretraining:   0%|          | 0/6 [00:00<?, ?it/s]W0819 14:51:07.905297 4423648704 deprecation.py:506] From /Users/nicholasfranklin/anaconda3/envs/sem3/lib/python3.7/site-packages/tensorflow/python/ops/init_ops.py:1251: calling VarianceScaling.__init__ (from tensorflow.python.ops.init_ops) with dtype is deprecated and will be removed in a future version.\n",
      "Instructions for updating:\n",
      "Call initializer instance with the dtype argument instead of passing it to the constructor\n",
      "Pretraining: 100%|██████████| 6/6 [00:05<00:00,  1.05it/s]\n",
      "Run SEM:   0%|          | 0/2 [00:00<?, ?it/s]"
     ]
    },
    {
     "name": "stdout",
     "output_type": "stream",
     "text": [
      "0.14196955076640022\n"
     ]
    },
    {
     "name": "stderr",
     "output_type": "stream",
     "text": [
      "Run SEM: 100%|██████████| 2/2 [00:01<00:00,  1.42it/s]"
     ]
    },
    {
     "name": "stdout",
     "output_type": "stream",
     "text": [
      "[1.00000000e+00 2.91996809e-07]\n",
      "[0 0]\n"
     ]
    },
    {
     "name": "stderr",
     "output_type": "stream",
     "text": [
      "\n"
     ]
    }
   ],
   "source": [
    "# Ask(Tom, Charan) -> Answer(Charan, Tom)\n",
    "sem_model = SEM(**sem_kwargs)\n",
    "sem_model.pretrain(_x, event_types, event_boundaries)\n",
    "print(sem_model.event_models[0].Sigma.mean())\n",
    "sem_model._update_state(np.concatenate(test_a), 3)\n",
    "sem_model.run(np.concatenate(test_a), compile_model=False)\n",
    "\n",
    "results = [\n",
    "    {\n",
    "        'Test Case': 'Answer(Charan,Tom)',\n",
    "        'Boundary': np.exp(sem_model.results.log_boundary_probability)[1],\n",
    "        'New Event': 1-sem_model.results.post[1, 0]\n",
    "    }\n",
    "]\n",
    "\n",
    "print(np.exp(sem_model.results.log_boundary_probability))\n",
    "print(sem_model.results.e_hat)"
   ]
  },
  {
   "cell_type": "code",
   "execution_count": 13,
   "metadata": {},
   "outputs": [
    {
     "name": "stdout",
     "output_type": "stream",
     "text": [
      "[0.00000000e+00 1.56092461e-07]\n"
     ]
    },
    {
     "data": {
      "image/png": "[encoded data removed]",
      "text/plain": [
       "<Figure size 216x144 with 1 Axes>"
      ]
     },
     "metadata": {
      "needs_background": "light"
     },
     "output_type": "display_data"
    }
   ],
   "source": [
    "sns.set_context('paper', font_scale=1.0)\n",
    "\n",
    "def plot_results(results, x_labels):\n",
    "    fig, ax = plt.subplots(1, 1, figsize=(3.0, 2.0), sharey=True)\n",
    "    w = 0.4\n",
    "    \n",
    "    y = np.exp(sem_model.results.log_boundary_probability)\n",
    "    ax.bar([0-w/2., 1.-w/2.], y, facecolor=[0.65, 0.65, 0.65], width=w, edgecolor='k', lw=1, label='Boundary')\n",
    "    ax.set_ylabel('Probability')\n",
    "    ax.set_title('Boundary')\n",
    "    ax.set_title('New Event')\n",
    "    \n",
    "    \n",
    "    ax.set_xticks([0, 1])\n",
    "    ax.set_xticklabels(x_labels, rotation=0)\n",
    "    \n",
    "    y = 1-results.post[:, 0]\n",
    "    print(y)\n",
    "    ax.bar([0+w/2., 1.+w/2.], y, facecolor=[0.35, 0.35, 0.35], width=w, edgecolor='k', lw=1, label='New Event')\n",
    "\n",
    "\n",
    "    plt.legend(loc='center right', bbox_to_anchor=(1.5, 0.5))\n",
    "    sns.despine()\n",
    "    \n",
    "plot_results(sem_model.results, 'Ask(Tom,Charan) Answer(Charan,Tom)'.split(' '))\n",
    "# plt.savefig('generalization_test_case_a.png', dpi=300, bbox_inches='tight')"
   ]
  },
  {
   "cell_type": "code",
   "execution_count": 14,
   "metadata": {},
   "outputs": [
    {
     "data": {
      "text/plain": [
       "array([1.        , 0.99999984])"
      ]
     },
     "execution_count": 14,
     "metadata": {},
     "output_type": "execute_result"
    }
   ],
   "source": [
    "sem_model.results.post[:, 0]"
   ]
  },
  {
   "cell_type": "code",
   "execution_count": 15,
   "metadata": {},
   "outputs": [
    {
     "name": "stdout",
     "output_type": "stream",
     "text": [
      "2.6885131233166444 18.43050268860528\n"
     ]
    }
   ],
   "source": [
    "print(sem_model.results.restart_prob, sem_model.results.repeat_prob)"
   ]
  },
  {
   "cell_type": "code",
   "execution_count": 16,
   "metadata": {},
   "outputs": [
    {
     "name": "stdout",
     "output_type": "stream",
     "text": [
      "[[ 0.                -inf        -inf]\n",
      " [16.35106131  2.                -inf]]\n"
     ]
    }
   ],
   "source": [
    "print(sem_model.results.log_like)"
   ]
  },
  {
   "cell_type": "code",
   "execution_count": 17,
   "metadata": {},
   "outputs": [
    {
     "name": "stdout",
     "output_type": "stream",
     "text": [
      "[[2.               -inf       -inf]\n",
      " [2.01490302 0.69314718       -inf]]\n"
     ]
    }
   ],
   "source": [
    "print(sem_model.results.log_prior)"
   ]
  },
  {
   "cell_type": "code",
   "execution_count": 18,
   "metadata": {},
   "outputs": [
    {
     "name": "stdout",
     "output_type": "stream",
     "text": [
      "t=0, f0=0.8198342881166145, origin=2.484382218071772\n",
      "t=1, f(x)=0.22791950501949632, f0=2.1006654387666375, origin=2.41267799517429\n"
     ]
    }
   ],
   "source": [
    "print_evalute(test_a, sem_model.event_models[0])"
   ]
  },
  {
   "cell_type": "code",
   "execution_count": 19,
   "metadata": {},
   "outputs": [
    {
     "name": "stdout",
     "output_type": "stream",
     "text": [
      "t=0, p(f0_a)=15.252987803631157, p(f0_a)=2.0\n",
      "t=1, p(f(x)_a)=17.47725387822939, p(f0_a)=1.8316294574543974, p(f0_b)=2.0\n"
     ]
    }
   ],
   "source": [
    "print_models_likelihood(test_a, sem_model.event_models[0], sem_model.event_models[1])"
   ]
  },
  {
   "cell_type": "code",
   "execution_count": 20,
   "metadata": {},
   "outputs": [
    {
     "data": {
      "image/png": "[encoded data removed]",
      "text/plain": [
       "<Figure size 468x144 with 3 Axes>"
      ]
     },
     "metadata": {
      "needs_background": "light"
     },
     "output_type": "display_data"
    },
    {
     "data": {
      "text/plain": [
       "<Figure size 432x288 with 0 Axes>"
      ]
     },
     "metadata": {},
     "output_type": "display_data"
    }
   ],
   "source": [
    "# check the decoding here\n",
    "# from sem import decode\n",
    "from scipy.linalg import norm\n",
    "from scipy.special import logsumexp\n",
    "\n",
    "gamma = 50.0\n",
    "\n",
    "agent = decode(sem_model.results.x_hat[1], roles['Agent'])\n",
    "patient = decode(sem_model.results.x_hat[1], roles['Patient'])\n",
    "verb = decode(sem_model.results.x_hat[1], roles['Verb'])\n",
    "\n",
    "\n",
    "_df = []\n",
    "for w in words.keys():\n",
    "    _df.append({\n",
    "        'Word': w,\n",
    "        'Agent Prob': gamma * -cosine_distances(agent, words[w])[0][0],\n",
    "        'Patient Prob': gamma * -cosine_distances(patient, words[w])[0][0],\n",
    "        'Verb Prob': gamma * -cosine_distances(verb, words[w])[0][0],\n",
    "    }) \n",
    "_df = pd.DataFrame(_df)\n",
    "_df['Agent Prob'] =np.exp( _df['Agent Prob'] - logsumexp(_df['Agent Prob']))\n",
    "_df['Patient Prob'] =np.exp( _df['Patient Prob'] - logsumexp(_df['Patient Prob']))\n",
    "_df['Verb Prob'] =np.exp( _df['Verb Prob'] - logsumexp(_df['Verb Prob']))\n",
    "\n",
    "# plot\n",
    "fig, axes = plt.subplots(1, 3, figsize=(6.5, 2.0), sharey=True)\n",
    "_df.sort_values('Agent Prob', inplace=True)\n",
    "_df.plot(x='Word', y='Agent Prob', kind='barh', color='grey', ax=axes[0], legend=None, title='Agent')\n",
    "_df.plot(x='Word', y='Patient Prob', kind='barh', color='grey', ax=axes[1], legend=None, title='Patient')\n",
    "_df.plot(x='Word', y='Verb Prob', kind='barh', color='grey', ax=axes[2], legend=None, title='Verb')\n",
    "\n",
    "for ax in axes:\n",
    "    ax.plot([1. / len(_df), 1. / len(_df)], plt.gca().get_ylim(), c='r', ls='--')\n",
    "    ax.set_xlabel('Decoding Probability')\n",
    "plt.show()\n",
    "plt.savefig('DecodingA.png', dpi=300, bbox_iunches='tight')"
   ]
  },
  {
   "cell_type": "code",
   "execution_count": 21,
   "metadata": {},
   "outputs": [
    {
     "name": "stdout",
     "output_type": "stream",
     "text": [
      "17.585701468288942\n",
      "4.691813419444323\n"
     ]
    }
   ],
   "source": [
    "from scipy.stats import multivariate_normal\n",
    "\n",
    "\n",
    "print(multivariate_normal.logpdf(test_a[1].reshape(-1), mean=sem_model.results.x_hat[1].reshape(-1), cov=np.diag(sem_model.event_models[0].Sigma)))\n",
    "print(multivariate_normal.logpdf(test_b[1].reshape(-1), mean=sem_model.results.x_hat[1].reshape(-1), cov=np.diag(sem_model.event_models[0].Sigma)))"
   ]
  },
  {
   "cell_type": "code",
   "execution_count": 22,
   "metadata": {},
   "outputs": [
    {
     "name": "stdout",
     "output_type": "stream",
     "text": [
      "0.9999974866412772 2.51335872417538e-06\n",
      "397872.96458024357\n"
     ]
    }
   ],
   "source": [
    "a = multivariate_normal.logpdf(test_a[1].reshape(-1), mean=sem_model.results.x_hat[1].reshape(-1), cov=np.diag(sem_model.event_models[0].Sigma))\n",
    "b = multivariate_normal.logpdf(test_b[1].reshape(-1), mean=sem_model.results.x_hat[1].reshape(-1), cov=np.diag(sem_model.event_models[0].Sigma))\n",
    "z = logsumexp([a, b])\n",
    "print(np.exp(a - z), np.exp(b - z))\n",
    "print(np.exp(a - b))"
   ]
  },
  {
   "cell_type": "markdown",
   "metadata": {},
   "source": [
    "# Test Case B"
   ]
  },
  {
   "cell_type": "code",
   "execution_count": 23,
   "metadata": {},
   "outputs": [
    {
     "name": "stderr",
     "output_type": "stream",
     "text": [
      "Pretraining: 100%|██████████| 6/6 [00:08<00:00,  1.43s/it]\n",
      "Run SEM: 100%|██████████| 2/2 [00:01<00:00,  1.04s/it]"
     ]
    },
    {
     "name": "stdout",
     "output_type": "stream",
     "text": [
      "[1.         0.10579379]\n",
      "[0 0]\n"
     ]
    },
    {
     "name": "stderr",
     "output_type": "stream",
     "text": [
      "\n"
     ]
    }
   ],
   "source": [
    "# Ask(Bruce, Dick) -> Answer(Dick, Bruce)\n",
    "sem_model = SEM(**sem_kwargs)\n",
    "sem_model.pretrain(_x, event_types, event_boundaries)\n",
    "sem_model._update_state(np.concatenate(test_b), 3)\n",
    "sem_model.run(np.concatenate(test_b), compile_model=False)\n",
    "\n",
    "results.append(\n",
    "    {\n",
    "        'Test Case': 'Answer(Dick,Bruce)',\n",
    "        'Boundary': np.exp(sem_model.results.log_boundary_probability)[1],\n",
    "        'New Event': 1-sem_model.results.post[1, 0]\n",
    "    }\n",
    ")\n",
    "\n",
    "print(np.exp(sem_model.results.log_boundary_probability))\n",
    "print(sem_model.results.e_hat)"
   ]
  },
  {
   "cell_type": "code",
   "execution_count": 24,
   "metadata": {},
   "outputs": [
    {
     "name": "stdout",
     "output_type": "stream",
     "text": [
      "[0.         0.00697174]\n"
     ]
    },
    {
     "data": {
      "image/png": "[encoded data removed]",
      "text/plain": [
       "<Figure size 216x144 with 1 Axes>"
      ]
     },
     "metadata": {
      "needs_background": "light"
     },
     "output_type": "display_data"
    }
   ],
   "source": [
    "plot_results(sem_model.results, 'Ask(Bruce,Dick) Answer(Dick,Bruce)'.split(' '))\n",
    "# plt.savefig('generalization_test_case_b.png', dpi=300, bbox_inches='tight')"
   ]
  },
  {
   "cell_type": "code",
   "execution_count": 25,
   "metadata": {},
   "outputs": [
    {
     "data": {
      "text/plain": [
       "array([[0.       ,      -inf,      -inf],\n",
       "       [5.6371384, 2.       ,      -inf]])"
      ]
     },
     "execution_count": 25,
     "metadata": {},
     "output_type": "execute_result"
    }
   ],
   "source": [
    "sem_model.results.log_like"
   ]
  },
  {
   "cell_type": "code",
   "execution_count": 26,
   "metadata": {},
   "outputs": [
    {
     "name": "stdout",
     "output_type": "stream",
     "text": [
      "5.398076282197442 7.597254757653468\n"
     ]
    }
   ],
   "source": [
    "print(sem_model.results.restart_prob, sem_model.results.repeat_prob)"
   ]
  },
  {
   "cell_type": "code",
   "execution_count": 27,
   "metadata": {},
   "outputs": [
    {
     "name": "stdout",
     "output_type": "stream",
     "text": [
      "t=0, f0=1.1833900896917997, origin=2.2645149023624707\n",
      "t=1, f(x)=0.29256655652753044, f0=1.9100694174018378, origin=2.181137766081979\n"
     ]
    }
   ],
   "source": [
    "print_evalute(test_b, sem_model.event_models[0])"
   ]
  },
  {
   "cell_type": "code",
   "execution_count": 28,
   "metadata": {},
   "outputs": [
    {
     "name": "stdout",
     "output_type": "stream",
     "text": [
      "t=0, p(f0_a)=12.632415319591104, p(f0_a)=2.0\n",
      "t=1, p(f(x)_a)=17.348171518900386, p(f0_a)=4.566649276887205, p(f0_b)=2.0\n"
     ]
    }
   ],
   "source": [
    "print_models_likelihood(test_b, sem_model.event_models[0], sem_model.event_models[1])"
   ]
  },
  {
   "cell_type": "code",
   "execution_count": 29,
   "metadata": {},
   "outputs": [
    {
     "data": {
      "image/png": "[encoded data removed]",
      "text/plain": [
       "<Figure size 468x144 with 3 Axes>"
      ]
     },
     "metadata": {
      "needs_background": "light"
     },
     "output_type": "display_data"
    },
    {
     "data": {
      "text/plain": [
       "<Figure size 432x288 with 0 Axes>"
      ]
     },
     "metadata": {},
     "output_type": "display_data"
    }
   ],
   "source": [
    "# check the decoding here\n",
    "agent = decode(sem_model.results.x_hat[1], roles['Agent'])\n",
    "patient = decode(sem_model.results.x_hat[1], roles['Patient'])\n",
    "verb = decode(sem_model.results.x_hat[1], roles['Verb'])\n",
    "\n",
    "\n",
    "_df = []\n",
    "for w in words.keys():\n",
    "    _df.append({\n",
    "        'Word': w,\n",
    "        'Agent Prob': -gamma * cosine_distances(agent, words[w])[0][0],\n",
    "        'Patient Prob': -gamma * cosine_distances(patient, words[w])[0][0],\n",
    "        'Verb Prob': -gamma * cosine_distances(verb, words[w])[0][0],\n",
    "    }) \n",
    "_df = pd.DataFrame(_df)\n",
    "_df['Agent Prob'] =np.exp( _df['Agent Prob'] - logsumexp(_df['Agent Prob']))\n",
    "_df['Patient Prob'] =np.exp( _df['Patient Prob'] - logsumexp(_df['Patient Prob']))\n",
    "_df['Verb Prob'] =np.exp( _df['Verb Prob'] - logsumexp(_df['Verb Prob']))\n",
    "\n",
    "# plot\n",
    "fig, axes = plt.subplots(1, 3, figsize=(6.5, 2.0), sharey=True)\n",
    "_df.sort_values('Agent Prob', inplace=True)\n",
    "_df.plot(x='Word', y='Agent Prob', kind='barh', color='grey', ax=axes[0], legend=None, title='Agent')\n",
    "_df.plot(x='Word', y='Patient Prob', kind='barh', color='grey', ax=axes[1], legend=None, title='Patient')\n",
    "_df.plot(x='Word', y='Verb Prob', kind='barh', color='grey', ax=axes[2], legend=None, title='Verb')\n",
    "\n",
    "for ax in axes:\n",
    "    ax.plot([1. / len(_df), 1. / len(_df)], plt.gca().get_ylim(), c='r', ls='--')\n",
    "    ax.set_xlabel('Decoding Probability')\n",
    "plt.show()\n",
    "plt.savefig('DecodingB.png', dpi=300, bbox_iunches='tight')"
   ]
  },
  {
   "cell_type": "code",
   "execution_count": 30,
   "metadata": {},
   "outputs": [
    {
     "name": "stdout",
     "output_type": "stream",
     "text": [
      "0.9396306058903174 0.019332161818701905 0.04103723229098112\n",
      "48.60452828308731 0.471088344399644\n"
     ]
    }
   ],
   "source": [
    "b_foil = encode(words['Answer'], roles['Verb']) \\\n",
    "        + encode(words['Bruce'], roles['Agent']) \\\n",
    "        + encode(words['Dick'], roles['Patient'])  \n",
    "        \n",
    "a = multivariate_normal.logpdf(test_a[1].reshape(-1), mean=sem_model.results.x_hat[1].reshape(-1), cov=np.diag(sem_model.event_models[0].Sigma))\n",
    "b = multivariate_normal.logpdf(test_b[1].reshape(-1), mean=sem_model.results.x_hat[1].reshape(-1), cov=np.diag(sem_model.event_models[0].Sigma))\n",
    "b0 = multivariate_normal.logpdf(b_foil.reshape(-1), mean=sem_model.results.x_hat[1].reshape(-1), cov=np.diag(sem_model.event_models[0].Sigma))\n",
    "\n",
    "\n",
    "z = logsumexp([a, b, b0])\n",
    "print(np.exp(a - z), np.exp(b - z), np.exp(b0 - z))\n",
    "print(np.exp(a - b), np.exp(b - b0))"
   ]
  },
  {
   "cell_type": "code",
   "execution_count": 31,
   "metadata": {},
   "outputs": [
    {
     "data": {
      "text/plain": [
       "array([ 0.        , -2.24626347])"
      ]
     },
     "execution_count": 31,
     "metadata": {},
     "output_type": "execute_result"
    }
   ],
   "source": [
    "sem_model.results.log_boundary_probability"
   ]
  },
  {
   "cell_type": "markdown",
   "metadata": {},
   "source": [
    "# Test Case C"
   ]
  },
  {
   "cell_type": "code",
   "execution_count": 32,
   "metadata": {},
   "outputs": [
    {
     "name": "stderr",
     "output_type": "stream",
     "text": [
      "Pretraining: 100%|██████████| 6/6 [00:06<00:00,  1.01s/it]\n",
      "Run SEM: 100%|██████████| 2/2 [00:01<00:00,  1.27it/s]"
     ]
    },
    {
     "name": "stdout",
     "output_type": "stream",
     "text": [
      "[1.         0.97597073]\n",
      "[0 1]\n"
     ]
    },
    {
     "name": "stderr",
     "output_type": "stream",
     "text": [
      "\n"
     ]
    }
   ],
   "source": [
    "# Ask(Tom, Charan) -> Chase(Dog, Cat)\n",
    "sem_model = SEM(**sem_kwargs)\n",
    "sem_model.pretrain(_x, event_types, event_boundaries)\n",
    "sem_model._update_state(np.concatenate(test_c), 3)\n",
    "sem_model.run(np.concatenate(test_c), compile_model=False)\n",
    "\n",
    "results.append(\n",
    "    {\n",
    "        'Test Case': 'Chase(Dog,Cat)',\n",
    "        'Boundary': np.exp(sem_model.results.log_boundary_probability)[1],\n",
    "        'New Event': 1-sem_model.results.post[1, 0]\n",
    "    }\n",
    ")\n",
    "\n",
    "print(np.exp(sem_model.results.log_boundary_probability))\n",
    "print(sem_model.results.e_hat)"
   ]
  },
  {
   "cell_type": "code",
   "execution_count": 33,
   "metadata": {},
   "outputs": [
    {
     "name": "stdout",
     "output_type": "stream",
     "text": [
      "[0.         0.87365425]\n"
     ]
    },
    {
     "data": {
      "image/png": "[encoded data removed]",
      "text/plain": [
       "<Figure size 216x144 with 1 Axes>"
      ]
     },
     "metadata": {
      "needs_background": "light"
     },
     "output_type": "display_data"
    }
   ],
   "source": [
    "plot_results(sem_model.results, 'Ask(Tom,Charan) Chase(Dog,Cat)'.split(' '))\n",
    "# plt.savefig('generalization_test_case_c.png', dpi=300, bbox_inches='tight')"
   ]
  },
  {
   "cell_type": "code",
   "execution_count": 34,
   "metadata": {},
   "outputs": [
    {
     "data": {
      "text/plain": [
       "array([[ 0.        ,        -inf,        -inf],\n",
       "       [-1.25541831,  2.        ,        -inf]])"
      ]
     },
     "execution_count": 34,
     "metadata": {},
     "output_type": "execute_result"
    }
   ],
   "source": [
    "sem_model.results.log_like"
   ]
  },
  {
   "cell_type": "code",
   "execution_count": 35,
   "metadata": {},
   "outputs": [
    {
     "name": "stdout",
     "output_type": "stream",
     "text": [
      "t=0, f0=0.9028873583576971, origin=2.484382218071772\n",
      "t=1, f(x)=2.3365269813664433, f0=2.242270675379445, origin=2.115746507936774\n"
     ]
    }
   ],
   "source": [
    "print_evalute(test_c, sem_model.event_models[0])"
   ]
  },
  {
   "cell_type": "code",
   "execution_count": 36,
   "metadata": {},
   "outputs": [
    {
     "name": "stdout",
     "output_type": "stream",
     "text": [
      "t=0, p(f0_a)=13.523934383567479, p(f0_a)=-93.2144323938962\n",
      "t=1, p(f(x)_a)=-2.9851571344595698, p(f0_a)=-1.4506193132903888, p(f0_b)=-82.07429581233146\n"
     ]
    }
   ],
   "source": [
    "print_models_likelihood(test_c, sem_model.event_models[0], sem_model.event_models[1])"
   ]
  },
  {
   "cell_type": "markdown",
   "metadata": {},
   "source": [
    "# Test Case D"
   ]
  },
  {
   "cell_type": "code",
   "execution_count": 37,
   "metadata": {},
   "outputs": [
    {
     "name": "stderr",
     "output_type": "stream",
     "text": [
      "Pretraining: 100%|██████████| 6/6 [00:06<00:00,  1.11s/it]\n",
      "Run SEM: 100%|██████████| 2/2 [00:01<00:00,  1.43it/s]"
     ]
    },
    {
     "name": "stdout",
     "output_type": "stream",
     "text": [
      "[1.         0.99999995]\n",
      "[0 0]\n"
     ]
    },
    {
     "name": "stderr",
     "output_type": "stream",
     "text": [
      "\n"
     ]
    }
   ],
   "source": [
    "# Ask(Tom, Charan) -> Ask(Tom, Charan)\n",
    "sem_model = SEM(**sem_kwargs)\n",
    "sem_model.pretrain(_x, event_types, event_boundaries)\n",
    "sem_model._update_state(np.concatenate(test_d), 3)\n",
    "sem_model.run(np.concatenate(test_d), compile_model=False)\n",
    "\n",
    "results.append(\n",
    "    {\n",
    "        'Test Case': 'Ask(Tom,Charan)',\n",
    "        'Boundary': np.exp(sem_model.results.log_boundary_probability)[1],\n",
    "        'New Event': 1-sem_model.results.post[1, 0]\n",
    "    }\n",
    ")\n",
    "\n",
    "print(np.exp(sem_model.results.log_boundary_probability))\n",
    "print(sem_model.results.e_hat)"
   ]
  },
  {
   "cell_type": "code",
   "execution_count": 38,
   "metadata": {},
   "outputs": [
    {
     "name": "stdout",
     "output_type": "stream",
     "text": [
      "[0.00000000e+00 2.01463639e-06]\n"
     ]
    },
    {
     "data": {
      "image/png": "[encoded data removed]",
      "text/plain": [
       "<Figure size 216x144 with 1 Axes>"
      ]
     },
     "metadata": {
      "needs_background": "light"
     },
     "output_type": "display_data"
    }
   ],
   "source": [
    "plot_results(sem_model.results, 'Ask(Tom,Charan) Ask(Tom,Charan)'.split(' '))\n",
    "# plt.savefig('generalization_test_case_d.png', dpi=300, bbox_inches='tight')"
   ]
  },
  {
   "cell_type": "markdown",
   "metadata": {},
   "source": [
    "## Test Case E"
   ]
  },
  {
   "cell_type": "code",
   "execution_count": 39,
   "metadata": {},
   "outputs": [
    {
     "name": "stderr",
     "output_type": "stream",
     "text": [
      "Pretraining: 100%|██████████| 6/6 [00:06<00:00,  1.11s/it]\n",
      "Run SEM: 100%|██████████| 2/2 [00:01<00:00,  1.36it/s]"
     ]
    },
    {
     "name": "stdout",
     "output_type": "stream",
     "text": [
      "[1.         0.99977528]\n",
      "[0 0]\n"
     ]
    },
    {
     "name": "stderr",
     "output_type": "stream",
     "text": [
      "\n"
     ]
    }
   ],
   "source": [
    "# Ask(Tom, Charan) -> Ask(Tom, Charan)\n",
    "sem_model = SEM(**sem_kwargs)\n",
    "sem_model.pretrain(_x, event_types, event_boundaries)\n",
    "sem_model._update_state(np.concatenate(test_e), 3)\n",
    "sem_model.run(np.concatenate(test_e), compile_model=False)\n",
    "\n",
    "results.append(\n",
    "    {\n",
    "        'Test Case': 'Ask(Bruce, Dick)',\n",
    "        'Boundary': np.exp(sem_model.results.log_boundary_probability)[1],\n",
    "        'New Event': 1-sem_model.results.post[1, 0]\n",
    "    }\n",
    ")\n",
    "\n",
    "print(np.exp(sem_model.results.log_boundary_probability))\n",
    "print(sem_model.results.e_hat)"
   ]
  },
  {
   "cell_type": "code",
   "execution_count": 40,
   "metadata": {},
   "outputs": [
    {
     "name": "stdout",
     "output_type": "stream",
     "text": [
      "[0.         0.00166116]\n"
     ]
    },
    {
     "data": {
      "image/png": "[encoded data removed]",
      "text/plain": [
       "<Figure size 216x144 with 1 Axes>"
      ]
     },
     "metadata": {
      "needs_background": "light"
     },
     "output_type": "display_data"
    }
   ],
   "source": [
    "plot_results(sem_model.results, 'Ask(Tom,Charan) Ask(Tom,Charan)'.split(' '))\n",
    "# plt.savefig('generalization_test_case_d.png', dpi=300, bbox_inches='tight')"
   ]
  },
  {
   "cell_type": "markdown",
   "metadata": {},
   "source": [
    "# All test cases"
   ]
  },
  {
   "cell_type": "code",
   "execution_count": 41,
   "metadata": {},
   "outputs": [],
   "source": [
    "results = pd.DataFrame(results)\n",
    "results = results.loc[[0, 2, 1, 3, 4], ]\n",
    "results.index = range(5)"
   ]
  },
  {
   "cell_type": "code",
   "execution_count": 42,
   "metadata": {},
   "outputs": [
    {
     "data": {
      "text/html": [
       "<div>\n",
       "<style scoped>\n",
       "    .dataframe tbody tr th:only-of-type {\n",
       "        vertical-align: middle;\n",
       "    }\n",
       "\n",
       "    .dataframe tbody tr th {\n",
       "        vertical-align: top;\n",
       "    }\n",
       "\n",
       "    .dataframe thead th {\n",
       "        text-align: right;\n",
       "    }\n",
       "</style>\n",
       "<table border=\"1\" class=\"dataframe\">\n",
       "  <thead>\n",
       "    <tr style=\"text-align: right;\">\n",
       "      <th></th>\n",
       "      <th>Boundary</th>\n",
       "      <th>New Event</th>\n",
       "      <th>Test Case</th>\n",
       "    </tr>\n",
       "  </thead>\n",
       "  <tbody>\n",
       "    <tr>\n",
       "      <th>0</th>\n",
       "      <td>2.919968e-07</td>\n",
       "      <td>1.560925e-07</td>\n",
       "      <td>Answer(Charan,Tom)</td>\n",
       "    </tr>\n",
       "    <tr>\n",
       "      <th>1</th>\n",
       "      <td>9.759707e-01</td>\n",
       "      <td>8.736542e-01</td>\n",
       "      <td>Chase(Dog,Cat)</td>\n",
       "    </tr>\n",
       "    <tr>\n",
       "      <th>2</th>\n",
       "      <td>1.057938e-01</td>\n",
       "      <td>6.971740e-03</td>\n",
       "      <td>Answer(Dick,Bruce)</td>\n",
       "    </tr>\n",
       "    <tr>\n",
       "      <th>3</th>\n",
       "      <td>1.000000e+00</td>\n",
       "      <td>2.014636e-06</td>\n",
       "      <td>Ask(Tom,Charan)</td>\n",
       "    </tr>\n",
       "    <tr>\n",
       "      <th>4</th>\n",
       "      <td>9.997753e-01</td>\n",
       "      <td>1.661162e-03</td>\n",
       "      <td>Ask(Bruce, Dick)</td>\n",
       "    </tr>\n",
       "  </tbody>\n",
       "</table>\n",
       "</div>"
      ],
      "text/plain": [
       "       Boundary     New Event           Test Case\n",
       "0  2.919968e-07  1.560925e-07  Answer(Charan,Tom)\n",
       "1  9.759707e-01  8.736542e-01      Chase(Dog,Cat)\n",
       "2  1.057938e-01  6.971740e-03  Answer(Dick,Bruce)\n",
       "3  1.000000e+00  2.014636e-06     Ask(Tom,Charan)\n",
       "4  9.997753e-01  1.661162e-03    Ask(Bruce, Dick)"
      ]
     },
     "execution_count": 42,
     "metadata": {},
     "output_type": "execute_result"
    }
   ],
   "source": [
    "results"
   ]
  },
  {
   "cell_type": "code",
   "execution_count": 43,
   "metadata": {},
   "outputs": [],
   "source": [
    "x_labels = results['Test Case'].copy()\n"
   ]
  },
  {
   "cell_type": "code",
   "execution_count": null,
   "metadata": {},
   "outputs": [],
   "source": []
  },
  {
   "cell_type": "code",
   "execution_count": 44,
   "metadata": {},
   "outputs": [
    {
     "data": {
      "image/png": "[encoded data removed]",
      "text/plain": [
       "<Figure size 495x144 with 1 Axes>"
      ]
     },
     "metadata": {
      "needs_background": "light"
     },
     "output_type": "display_data"
    }
   ],
   "source": [
    "with sns.plotting_context('paper', font_scale=0.8):\n",
    "    fig, ax = plt.subplots(1, 1, figsize=(6.875, 2.0), sharey=True)\n",
    "    w = 0.35\n",
    "\n",
    "    y = results.Boundary\n",
    "    x = [x0 - w/2. for x0 in results.index]\n",
    "    ax.bar(x, y, facecolor=[0.65, 0.65, 0.65], width=w, edgecolor='k', lw=1, label='Boundary')\n",
    "    ax.set_ylabel('Probability')\n",
    "\n",
    "    ax.set_xticks(results.index)\n",
    "    ax.set_xticklabels(x_labels, rotation=0)\n",
    "\n",
    "    y = results['New Event']\n",
    "    x = [x0 + w/2. for x0 in results.index]\n",
    "    ax.bar(x, y, facecolor=[0.35, 0.35, 0.35], width=w, edgecolor='k', lw=1, label='New Event')\n",
    "    \n",
    "    ax.axhline(y=0.5, ls=':', c='k')\n",
    "    ax.set_ylim(0, 1)\n",
    "    \n",
    "\n",
    "    plt.legend(loc='upper left')\n",
    "    sns.despine()\n",
    "#     plt.savefig('generalization_demo_results.png', dpi=300)"
   ]
  },
  {
   "cell_type": "code",
   "execution_count": 45,
   "metadata": {},
   "outputs": [
    {
     "data": {
      "image/png": "[encoded data removed]",
      "text/plain": [
       "<Figure size 432x288 with 1 Axes>"
      ]
     },
     "metadata": {
      "needs_background": "light"
     },
     "output_type": "display_data"
    }
   ],
   "source": [
    "cases = (results['Test Case'] == 'Answer(Dick,Bruce)') | (results['Test Case'] ==  'Chase(Dog,Cat)') | (results['Test Case'] ==  'Answer(Charan,Tom)')\n",
    "# results.loc[cases]\n",
    "\n",
    "res_ = results.loc[cases].copy()\n",
    "res_ = res_.loc[[0, 2, 1], :]\n",
    "\n",
    "y = res_.Boundary\n",
    "x = range(3)\n",
    "\n",
    "with sns.plotting_context('talk'):\n",
    "    fig, ax = plt.subplots(1, 1)\n",
    "    ax.bar(x, y, facecolor=[0.65, 0.65, 0.65],  edgecolor='k', lw=1, label='Boundary')\n",
    "    ax.set_ylabel('Probability')\n",
    "    ax.set_xticks(x)\n",
    "    ax.set_xticklabels(['Previously\\nExperienced', 'Repeat\\nStructure', 'Violate\\nStructure'], rotation=0)\n",
    "    sns.despine()\n",
    "#     plt.savefig('StructureTalk.png', dpi=300, bbox_inches='tight')"
   ]
  },
  {
   "cell_type": "code",
   "execution_count": 46,
   "metadata": {},
   "outputs": [
    {
     "data": {
      "text/html": [
       "<div>\n",
       "<style scoped>\n",
       "    .dataframe tbody tr th:only-of-type {\n",
       "        vertical-align: middle;\n",
       "    }\n",
       "\n",
       "    .dataframe tbody tr th {\n",
       "        vertical-align: top;\n",
       "    }\n",
       "\n",
       "    .dataframe thead th {\n",
       "        text-align: right;\n",
       "    }\n",
       "</style>\n",
       "<table border=\"1\" class=\"dataframe\">\n",
       "  <thead>\n",
       "    <tr style=\"text-align: right;\">\n",
       "      <th></th>\n",
       "      <th>Boundary</th>\n",
       "      <th>New Event</th>\n",
       "      <th>Test Case</th>\n",
       "    </tr>\n",
       "  </thead>\n",
       "  <tbody>\n",
       "    <tr>\n",
       "      <th>0</th>\n",
       "      <td>2.919968e-07</td>\n",
       "      <td>1.560925e-07</td>\n",
       "      <td>Answer(Charan,Tom)</td>\n",
       "    </tr>\n",
       "    <tr>\n",
       "      <th>2</th>\n",
       "      <td>1.057938e-01</td>\n",
       "      <td>6.971740e-03</td>\n",
       "      <td>Answer(Dick,Bruce)</td>\n",
       "    </tr>\n",
       "    <tr>\n",
       "      <th>1</th>\n",
       "      <td>9.759707e-01</td>\n",
       "      <td>8.736542e-01</td>\n",
       "      <td>Chase(Dog,Cat)</td>\n",
       "    </tr>\n",
       "  </tbody>\n",
       "</table>\n",
       "</div>"
      ],
      "text/plain": [
       "       Boundary     New Event           Test Case\n",
       "0  2.919968e-07  1.560925e-07  Answer(Charan,Tom)\n",
       "2  1.057938e-01  6.971740e-03  Answer(Dick,Bruce)\n",
       "1  9.759707e-01  8.736542e-01      Chase(Dog,Cat)"
      ]
     },
     "execution_count": 46,
     "metadata": {},
     "output_type": "execute_result"
    }
   ],
   "source": [
    "res_"
   ]
  },
  {
   "cell_type": "markdown",
   "metadata": {},
   "source": [
    "# Reduced model: No clustering"
   ]
  },
  {
   "cell_type": "code",
   "execution_count": 47,
   "metadata": {},
   "outputs": [
    {
     "name": "stderr",
     "output_type": "stream",
     "text": [
      "Pretraining: 100%|██████████| 6/6 [00:15<00:00,  2.74s/it]\n",
      "Run SEM:   0%|          | 0/4 [00:00<?, ?it/s]"
     ]
    },
    {
     "name": "stdout",
     "output_type": "stream",
     "text": [
      "0.14197844483904695\n"
     ]
    },
    {
     "name": "stderr",
     "output_type": "stream",
     "text": [
      "Run SEM: 100%|██████████| 4/4 [00:03<00:00,  1.11s/it]"
     ]
    },
    {
     "name": "stdout",
     "output_type": "stream",
     "text": [
      "[ 0.         -2.29669388  6.73651347 15.97331968]\n"
     ]
    },
    {
     "name": "stderr",
     "output_type": "stream",
     "text": [
      "\n"
     ]
    }
   ],
   "source": [
    "words['See'] = embed(d)\n",
    "\n",
    "\n",
    "test_a2x = [\n",
    "    encode(words['See'], roles['Verb']) \n",
    "        + encode(words['Dog'], roles['Agent']) \n",
    "        + encode(words['Cat'], roles['Patient']),\n",
    "    encode(words['Chase'], roles['Verb']) \n",
    "        + encode(words['Dog'], roles['Agent']) \n",
    "        + encode(words['Cat'], roles['Patient']),\n",
    "    \n",
    "    encode(words['Ask'], roles['Verb']) \n",
    "        + encode(words['Tom'], roles['Agent']) \n",
    "        + encode(words['Charan'], roles['Patient']),\n",
    "    encode(words['Answer'], roles['Verb']) \n",
    "        + encode(words['Charan'], roles['Agent']) \n",
    "        + encode(words['Tom'], roles['Patient']),\n",
    "]\n",
    "\n",
    "\n",
    "\n",
    "\n",
    "# Ask(Tom, Charan) -> Answer(Charan, Tom)\n",
    "sem_model = SEM(**sem_kwargs)\n",
    "sem_model.pretrain(_x, event_types, event_boundaries)\n",
    "print(sem_model.event_models[0].Sigma.mean())\n",
    "sem_model._update_state(np.concatenate(test_a2x), 3)\n",
    "sem_model.run(np.concatenate(test_a2x), compile_model=False)\n",
    "\n",
    "new_results = [\n",
    "    {\n",
    "        'Model': 'SEM',\n",
    "        'PE': sem_model.results.pe[-1] / sem_model.results.pe[-2]\n",
    "    }\n",
    "]\n",
    "\n",
    "print(sem_model.results.surprise)"
   ]
  },
  {
   "cell_type": "code",
   "execution_count": 48,
   "metadata": {},
   "outputs": [
    {
     "data": {
      "text/plain": [
       "array([0, 2, 0, 0])"
      ]
     },
     "execution_count": 48,
     "metadata": {},
     "output_type": "execute_result"
    }
   ],
   "source": [
    "sem_model.results.e_hat"
   ]
  },
  {
   "cell_type": "code",
   "execution_count": 49,
   "metadata": {},
   "outputs": [
    {
     "data": {
      "text/plain": [
       "array([0.        , 1.07110349, 1.50703961, 0.15423782])"
      ]
     },
     "execution_count": 49,
     "metadata": {},
     "output_type": "execute_result"
    }
   ],
   "source": [
    "sem_model.results.pe / np.linalg.norm(np.concatenate(test_a2x), axis=1).mean()"
   ]
  },
  {
   "cell_type": "code",
   "execution_count": 50,
   "metadata": {},
   "outputs": [
    {
     "data": {
      "text/plain": [
       "array([0.        , 0.71073347, 1.        , 0.1023449 ])"
      ]
     },
     "execution_count": 50,
     "metadata": {},
     "output_type": "execute_result"
    }
   ],
   "source": [
    "sem_model.results.pe / sem_model.results.pe[-2]"
   ]
  },
  {
   "cell_type": "code",
   "execution_count": 51,
   "metadata": {},
   "outputs": [
    {
     "name": "stderr",
     "output_type": "stream",
     "text": [
      "Pretraining: 100%|██████████| 6/6 [00:06<00:00,  1.01s/it]\n",
      "Run SEM:   0%|          | 0/4 [00:00<?, ?it/s]/Users/nicholasfranklin/OneDrive/Projects/SEM3/core/sem.py:257: RuntimeWarning: invalid value encountered in log\n",
      "  _post = np.log(prior[:len(active)]) + lik\n",
      "Run SEM:  25%|██▌       | 1/4 [00:00<00:02,  1.43it/s]/Users/nicholasfranklin/OneDrive/Projects/SEM3/core/sem.py:286: RuntimeWarning: invalid value encountered in log\n",
      "  p = np.log(prior[:len(active)]) + lik - np.max(lik)  # subtracting the max doesn't change proportionality\n",
      "/Users/nicholasfranklin/OneDrive/Projects/SEM3/core/sem.py:291: RuntimeWarning: invalid value encountered in log\n",
      "  log_prior[ii, :len(active)] = np.log(prior[:len(active)])\n",
      "Run SEM: 100%|██████████| 4/4 [00:02<00:00,  1.85it/s]\n"
     ]
    }
   ],
   "source": [
    "## these are the original parameters\n",
    "# # SEM parameters\n",
    "# df0 = 100.0\n",
    "# mode = 0.305\n",
    "# scale0 = (mode * (df0 + 2)) / df0\n",
    "# print scale0\n",
    "\n",
    "# lmda = 1.0  # stickyness parameter\n",
    "# alfa = 2.  # concentration parameter\n",
    "\n",
    "\n",
    "# prevent boundaries from being simulated by changing the CRP parameters\n",
    "sem_kwargs_reduced_model = dict(lmda=10^6, alfa=10^-6, f_class=f_class, f_opts=f_opts)\n",
    "\n",
    "\n",
    "# Ask(Tom, Charan) -> Answer(Charan, Tom)\n",
    "sem_model = SEM(**sem_kwargs_reduced_model)\n",
    "sem_model.pretrain(_x, event_types, event_boundaries)\n",
    "sem_model._update_state(np.concatenate(test_a2x), 5)\n",
    "sem_model.run(np.concatenate(test_a2x), compile_model=False)\n",
    "\n",
    "new_results += [\n",
    "    {\n",
    "        'Model': 'Reduced',\n",
    "        'PE': sem_model.results.pe[-1] / sem_model.results.pe[-2]\n",
    "    }\n",
    "]\n"
   ]
  },
  {
   "cell_type": "code",
   "execution_count": 52,
   "metadata": {},
   "outputs": [
    {
     "data": {
      "image/png": "[encoded data removed]",
      "text/plain": [
       "<Figure size 144x144 with 1 Axes>"
      ]
     },
     "metadata": {
      "needs_background": "light"
     },
     "output_type": "display_data"
    }
   ],
   "source": [
    "with sns.plotting_context('paper', font_scale=1.0):\n",
    "    sns.catplot(data=pd.DataFrame(new_results), x='Model', y='PE', color='grey',\n",
    "            height=2.0, kind='bar')\n",
    "    plt.ylim([0, 1])\n",
    "#     plt.savefig('generalization_demo_reduced_model2.png', dpi=300)"
   ]
  },
  {
   "cell_type": "code",
   "execution_count": 53,
   "metadata": {},
   "outputs": [
    {
     "data": {
      "text/plain": [
       "array([0.        , 0.72371233, 1.        , 0.96696029])"
      ]
     },
     "execution_count": 53,
     "metadata": {},
     "output_type": "execute_result"
    }
   ],
   "source": [
    "sem_model.results.pe / sem_model.results.pe[-2]"
   ]
  },
  {
   "cell_type": "code",
   "execution_count": null,
   "metadata": {},
   "outputs": [],
   "source": []
  }
 ],
 "metadata": {
  "kernelspec": {
   "display_name": "Python 3",
   "language": "python",
   "name": "python3"
  },
  "language_info": {
   "codemirror_mode": {
    "name": "ipython",
    "version": 3
   },
   "file_extension": ".py",
   "mimetype": "text/x-python",
   "name": "python",
   "nbconvert_exporter": "python",
   "pygments_lexer": "ipython3",
   "version": "3.7.3"
  }
 },
 "nbformat": 4,
 "nbformat_minor": 2
}
